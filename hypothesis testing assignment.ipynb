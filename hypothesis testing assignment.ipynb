{
 "cells": [
  {
   "cell_type": "code",
   "execution_count": 1,
   "id": "79ed0d2c-12c9-4000-ae29-214b2947087d",
   "metadata": {},
   "outputs": [],
   "source": [
    "# import required libraries\n",
    "import scipy.stats as stats\n",
    "import numpy as np\n"
   ]
  },
  {
   "cell_type": "code",
   "execution_count": 2,
   "id": "6a38df0a-2e8f-4f0a-8a51-bc5de76a18cc",
   "metadata": {},
   "outputs": [],
   "source": [
    "# Data provided\n",
    "# Theoretical weekly operating cost model\n",
    "theoretical_cost_model = lambda X: 1000 + 5 * X \n",
    "\n",
    "# Mean number of units produced in a week\n",
    "mean_units_produced = 600 \n",
    "\n",
    "# Standard deviation of units produced\n",
    "std_units_produced = 25  \n",
    "\n",
    "# Sample size\n",
    "sample_size = 25  \n",
    "\n",
    "# Sample mean weekly cost\n",
    "sample_mean_cost = 3050  \n",
    "\n",
    " # Significance level\n",
    "alpha = 0.05 "
   ]
  },
  {
   "cell_type": "code",
   "execution_count": 3,
   "id": "2bcb1914-d858-40e5-a32a-929a4da99f46",
   "metadata": {},
   "outputs": [],
   "source": [
    "# Calculate the theoretical mean weekly cost (\\u03bc)\n",
    "theoretical_mean_cost = theoretical_cost_model(mean_units_produced)\n",
    "\n",
    "# Calculate the standard deviation of the sample mean\n",
    "sigma = 5 * std_units_produced \n",
    "std_error = sigma / np.sqrt(sample_size)  \n",
    "# Standard error of the mean\n",
    "\n",
    "# Calculate the test statistic (t)\n",
    "test_statistic = (sample_mean_cost - theoretical_mean_cost) / std_error\n",
    "\n",
    "# Determine the critical value for a one-tailed test\n",
    "critical_value = stats.norm.ppf(1 - alpha)\n",
    "\n",
    "# Making a decision\n",
    "reject_null = test_statistic > critical_value\n"
   ]
  },
  {
   "cell_type": "code",
   "execution_count": 4,
   "id": "5bca3e3e-7967-48b7-8922-9b62b5a12a2b",
   "metadata": {},
   "outputs": [
    {
     "name": "stdout",
     "output_type": "stream",
     "text": [
      "Theoretical Mean Weekly Cost (μ): 4000\n",
      "Standard Error (SE): 25.0\n",
      "Test Statistic (t): -38.0\n",
      "Critical Value (Zα): 1.6448536269514722\n",
      "Decision: Reject Null Hypothesis? No\n"
     ]
    }
   ],
   "source": [
    "# Print results\n",
    "print(\"Theoretical Mean Weekly Cost (\\u03bc):\", theoretical_mean_cost)\n",
    "print(\"Standard Error (SE):\", std_error)\n",
    "print(\"Test Statistic (t):\", test_statistic)\n",
    "print(\"Critical Value (Zα):\", critical_value)\n",
    "print(\"Decision: Reject Null Hypothesis?\", \"Yes\" if reject_null else \"No\")"
   ]
  },
  {
   "cell_type": "code",
   "execution_count": 5,
   "id": "c830491c-5335-4d6e-8b06-53b01ca40602",
   "metadata": {},
   "outputs": [
    {
     "name": "stdout",
     "output_type": "stream",
     "text": [
      "Conclusion: There is not enough evidence to support the restaurant owners' claim.\n"
     ]
    }
   ],
   "source": [
    "# Conclusion\n",
    "if reject_null:\n",
    "    print(\"Conclusion: There is strong evidence to support the restaurant owners' claim that the weekly operating costs are higher than the model suggests.\")\n",
    "else:\n",
    "    print(\"Conclusion: There is not enough evidence to support the restaurant owners' claim.\")\n"
   ]
  }
 ],
 "metadata": {
  "kernelspec": {
   "display_name": "Python 3 (ipykernel)",
   "language": "python",
   "name": "python3"
  },
  "language_info": {
   "codemirror_mode": {
    "name": "ipython",
    "version": 3
   },
   "file_extension": ".py",
   "mimetype": "text/x-python",
   "name": "python",
   "nbconvert_exporter": "python",
   "pygments_lexer": "ipython3",
   "version": "3.12.4"
  }
 },
 "nbformat": 4,
 "nbformat_minor": 5
}
