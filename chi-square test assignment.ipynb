{
 "cells": [
  {
   "cell_type": "code",
   "execution_count": 18,
   "id": "f16599fb-d994-429b-b8ce-d7b2511164c9",
   "metadata": {},
   "outputs": [
    {
     "name": "stdout",
     "output_type": "stream",
     "text": [
      "Contingency Table:\n",
      "                   Very Satisfied  Satisfied  Neutral  Unsatisfied  \\\n",
      "Smart Thermostats              50         80       60           30   \n",
      "Smart Lights                   70        100       90           50   \n",
      "\n",
      "                   Very Unsatisfied  \n",
      "Smart Thermostats                20  \n",
      "Smart Lights                     50  \n",
      "\n",
      "Chi-Square Statistic: 5.638227513227513\n",
      "P-Value: 0.22784371130697179\n",
      "Degrees of Freedom: 4\n",
      "Expected Frequencies:\n",
      "[[ 48.  72.  60.  32.  28.]\n",
      " [ 72. 108.  90.  48.  42.]]\n",
      "\n",
      "Critical Value at alpha = 0.05: 9.487729036781154\n",
      "\n",
      "Decision: Fail to reject the null hypothesis. There is no significant association between the type of device and customer satisfaction.\n"
     ]
    }
   ],
   "source": [
    "# import required libraries\n",
    "import numpy as np\n",
    "import pandas as pd\n",
    "from scipy.stats import chi2_contingency, chi2\n",
    "\n",
    "# State the Hypotheses\n",
    "# Null Hypothesis (H0): There is no association between the type of device and customer satisfaction level.\n",
    "# Alternative Hypothesis (H1): There is an association between the type of device and customer satisfaction level.\n",
    "\n",
    "# Create the contingency table\n",
    "data = {\n",
    "    'Very Satisfied': [50, 70],\n",
    "    'Satisfied': [80, 100],\n",
    "    'Neutral': [60, 90],\n",
    "    'Unsatisfied': [30, 50],\n",
    "    'Very Unsatisfied': [20, 50]\n",
    "}\n",
    "\n",
    "# Create a DataFrame\n",
    "df = pd.DataFrame(data, index=['Smart Thermostats', 'Smart Lights'])\n",
    "\n",
    "# Display the contingency table\n",
    "print(\"Contingency Table:\")\n",
    "print(df)\n",
    "\n",
    "# Compute the Chi-Square Statistic\n",
    "chi2_stat, p_value, dof, expected = chi2_contingency(df)\n",
    "\n",
    "# Display the results\n",
    "print(\"\\nChi-Square Statistic:\", chi2_stat)\n",
    "print(\"P-Value:\", p_value)\n",
    "print(\"Degrees of Freedom:\", dof)\n",
    "print(\"Expected Frequencies:\")\n",
    "print(expected)\n",
    "\n",
    "# Determine the Critical Value\n",
    "alpha = 0.05\n",
    "critical_value = chi2.ppf(1 - alpha, dof)\n",
    "\n",
    "print(\"\\nCritical Value at alpha = 0.05:\", critical_value)\n",
    "\n",
    "# Make a Decision\n",
    "if chi2_stat > critical_value:\n",
    "    decision = \"Reject the null hypothesis. There is a significant association between the type of device and customer satisfaction.\"\n",
    "else:\n",
    "    decision = \"Fail to reject the null hypothesis. There is no significant association between the type of device and customer satisfaction.\"\n",
    "\n",
    "print(\"\\nDecision:\", decision)"
   ]
  },
  {
   "cell_type": "code",
   "execution_count": null,
   "id": "e777bafc-d1bc-44ed-ac77-7bd5195852f5",
   "metadata": {},
   "outputs": [],
   "source": []
  }
 ],
 "metadata": {
  "kernelspec": {
   "display_name": "Python 3 (ipykernel)",
   "language": "python",
   "name": "python3"
  },
  "language_info": {
   "codemirror_mode": {
    "name": "ipython",
    "version": 3
   },
   "file_extension": ".py",
   "mimetype": "text/x-python",
   "name": "python",
   "nbconvert_exporter": "python",
   "pygments_lexer": "ipython3",
   "version": "3.12.4"
  }
 },
 "nbformat": 4,
 "nbformat_minor": 5
}
